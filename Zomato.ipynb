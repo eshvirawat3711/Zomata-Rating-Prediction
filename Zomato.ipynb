{
 "cells": [
  {
   "cell_type": "markdown",
   "id": "3c77c220",
   "metadata": {},
   "source": [
    "\n",
    "# Reading the Data \n",
    "**Importing python libraries**"
   ]
  },
  {
   "cell_type": "code",
   "execution_count": 2,
   "id": "994b05e6",
   "metadata": {},
   "outputs": [],
   "source": [
    "import numpy as np\n",
    "import pandas as pd\n",
    "import matplotlib.pyplot as plt\n",
    "%matplotlib inline\n",
    "import seaborn as sns"
   ]
  },
  {
   "cell_type": "markdown",
   "id": "4cdfd756",
   "metadata": {},
   "source": [
    "**Supressing the warning messages**"
   ]
  },
  {
   "cell_type": "code",
   "execution_count": 3,
   "id": "1af1f76d",
   "metadata": {},
   "outputs": [],
   "source": [
    "import warnings\n",
    "warnings.filterwarnings('ignore')"
   ]
  },
  {
   "cell_type": "markdown",
   "id": "6ea7ef08",
   "metadata": {},
   "source": [
    "**Reading the dataset**"
   ]
  },
  {
   "cell_type": "code",
   "execution_count": 4,
   "id": "865e9878",
   "metadata": {},
   "outputs": [
    {
     "name": "stdout",
     "output_type": "stream",
     "text": [
      "Shape before deleting duplicate values: (9551, 19)\n"
     ]
    }
   ],
   "source": [
    "ZomatoData=pd.read_csv(\"R:/DS/Ivy/Python/Python Datasets/Regression Datasets/ZomatoData.csv\",encoding='latin')\n",
    "print('Shape before deleting duplicate values:',ZomatoData.shape)"
   ]
  },
  {
   "cell_type": "markdown",
   "id": "d69b621b",
   "metadata": {},
   "source": [
    "**Removing duplicate values**"
   ]
  },
  {
   "cell_type": "code",
   "execution_count": 5,
   "id": "dc340db3",
   "metadata": {},
   "outputs": [
    {
     "name": "stdout",
     "output_type": "stream",
     "text": [
      "Shape after deleting duplicate values: (9551, 19)\n"
     ]
    }
   ],
   "source": [
    "ZomatoData=ZomatoData.drop_duplicates()\n",
    "print('Shape after deleting duplicate values:',ZomatoData.shape)"
   ]
  },
  {
   "cell_type": "markdown",
   "id": "566fe9ef",
   "metadata": {},
   "source": [
    "*The data has no duplicate values*"
   ]
  },
  {
   "cell_type": "markdown",
   "id": "c8d9c5dc",
   "metadata": {},
   "source": [
    "# Basic Data Exploration"
   ]
  },
  {
   "cell_type": "code",
   "execution_count": 6,
   "id": "4f9045dd",
   "metadata": {},
   "outputs": [
    {
     "name": "stdout",
     "output_type": "stream",
     "text": [
      "<class 'pandas.core.frame.DataFrame'>\n",
      "Int64Index: 9551 entries, 0 to 9550\n",
      "Data columns (total 19 columns):\n",
      " #   Column                Non-Null Count  Dtype  \n",
      "---  ------                --------------  -----  \n",
      " 0   Restaurant ID         9551 non-null   int64  \n",
      " 1   Restaurant Name       9551 non-null   object \n",
      " 2   Country Code          9551 non-null   int64  \n",
      " 3   City                  9551 non-null   object \n",
      " 4   Address               9551 non-null   object \n",
      " 5   Locality              9551 non-null   object \n",
      " 6   Locality Verbose      9551 non-null   object \n",
      " 7   Longitude             9551 non-null   float64\n",
      " 8   Latitude              9551 non-null   float64\n",
      " 9   Cuisines              9542 non-null   object \n",
      " 10  Currency              9551 non-null   object \n",
      " 11  Has Table booking     9551 non-null   object \n",
      " 12  Has Online delivery   9551 non-null   object \n",
      " 13  Is delivering now     9551 non-null   object \n",
      " 14  Switch to order menu  9551 non-null   object \n",
      " 15  Price range           9551 non-null   int64  \n",
      " 16  Votes                 9551 non-null   int64  \n",
      " 17  Average Cost for two  9551 non-null   int64  \n",
      " 18  Rating                9551 non-null   float64\n",
      "dtypes: float64(3), int64(5), object(11)\n",
      "memory usage: 1.5+ MB\n"
     ]
    }
   ],
   "source": [
    "ZomatoData.info()"
   ]
  },
  {
   "cell_type": "code",
   "execution_count": 7,
   "id": "af5c439a",
   "metadata": {},
   "outputs": [
    {
     "data": {
      "text/html": [
       "<div>\n",
       "<style scoped>\n",
       "    .dataframe tbody tr th:only-of-type {\n",
       "        vertical-align: middle;\n",
       "    }\n",
       "\n",
       "    .dataframe tbody tr th {\n",
       "        vertical-align: top;\n",
       "    }\n",
       "\n",
       "    .dataframe thead th {\n",
       "        text-align: right;\n",
       "    }\n",
       "</style>\n",
       "<table border=\"1\" class=\"dataframe\">\n",
       "  <thead>\n",
       "    <tr style=\"text-align: right;\">\n",
       "      <th></th>\n",
       "      <th>Restaurant ID</th>\n",
       "      <th>Country Code</th>\n",
       "      <th>Longitude</th>\n",
       "      <th>Latitude</th>\n",
       "      <th>Price range</th>\n",
       "      <th>Votes</th>\n",
       "      <th>Average Cost for two</th>\n",
       "      <th>Rating</th>\n",
       "    </tr>\n",
       "  </thead>\n",
       "  <tbody>\n",
       "    <tr>\n",
       "      <th>count</th>\n",
       "      <td>9.551000e+03</td>\n",
       "      <td>9551.000000</td>\n",
       "      <td>9551.000000</td>\n",
       "      <td>9551.000000</td>\n",
       "      <td>9551.000000</td>\n",
       "      <td>9551.000000</td>\n",
       "      <td>9551.000000</td>\n",
       "      <td>9551.000000</td>\n",
       "    </tr>\n",
       "    <tr>\n",
       "      <th>mean</th>\n",
       "      <td>9.051128e+06</td>\n",
       "      <td>18.365616</td>\n",
       "      <td>64.126574</td>\n",
       "      <td>25.854381</td>\n",
       "      <td>1.804837</td>\n",
       "      <td>156.909748</td>\n",
       "      <td>1199.210763</td>\n",
       "      <td>2.891268</td>\n",
       "    </tr>\n",
       "    <tr>\n",
       "      <th>std</th>\n",
       "      <td>8.791521e+06</td>\n",
       "      <td>56.750546</td>\n",
       "      <td>41.467058</td>\n",
       "      <td>11.007935</td>\n",
       "      <td>0.905609</td>\n",
       "      <td>430.169145</td>\n",
       "      <td>16121.183073</td>\n",
       "      <td>1.128845</td>\n",
       "    </tr>\n",
       "    <tr>\n",
       "      <th>min</th>\n",
       "      <td>5.300000e+01</td>\n",
       "      <td>1.000000</td>\n",
       "      <td>-157.948486</td>\n",
       "      <td>-41.330428</td>\n",
       "      <td>1.000000</td>\n",
       "      <td>0.000000</td>\n",
       "      <td>0.000000</td>\n",
       "      <td>1.000000</td>\n",
       "    </tr>\n",
       "    <tr>\n",
       "      <th>25%</th>\n",
       "      <td>3.019625e+05</td>\n",
       "      <td>1.000000</td>\n",
       "      <td>77.081343</td>\n",
       "      <td>28.478713</td>\n",
       "      <td>1.000000</td>\n",
       "      <td>5.000000</td>\n",
       "      <td>250.000000</td>\n",
       "      <td>2.500000</td>\n",
       "    </tr>\n",
       "    <tr>\n",
       "      <th>50%</th>\n",
       "      <td>6.004089e+06</td>\n",
       "      <td>1.000000</td>\n",
       "      <td>77.191964</td>\n",
       "      <td>28.570469</td>\n",
       "      <td>2.000000</td>\n",
       "      <td>31.000000</td>\n",
       "      <td>400.000000</td>\n",
       "      <td>3.200000</td>\n",
       "    </tr>\n",
       "    <tr>\n",
       "      <th>75%</th>\n",
       "      <td>1.835229e+07</td>\n",
       "      <td>1.000000</td>\n",
       "      <td>77.282006</td>\n",
       "      <td>28.642758</td>\n",
       "      <td>2.000000</td>\n",
       "      <td>131.000000</td>\n",
       "      <td>700.000000</td>\n",
       "      <td>3.700000</td>\n",
       "    </tr>\n",
       "    <tr>\n",
       "      <th>max</th>\n",
       "      <td>1.850065e+07</td>\n",
       "      <td>216.000000</td>\n",
       "      <td>174.832089</td>\n",
       "      <td>55.976980</td>\n",
       "      <td>4.000000</td>\n",
       "      <td>10934.000000</td>\n",
       "      <td>800000.000000</td>\n",
       "      <td>4.900000</td>\n",
       "    </tr>\n",
       "  </tbody>\n",
       "</table>\n",
       "</div>"
      ],
      "text/plain": [
       "       Restaurant ID  Country Code    Longitude     Latitude  Price range  \\\n",
       "count   9.551000e+03   9551.000000  9551.000000  9551.000000  9551.000000   \n",
       "mean    9.051128e+06     18.365616    64.126574    25.854381     1.804837   \n",
       "std     8.791521e+06     56.750546    41.467058    11.007935     0.905609   \n",
       "min     5.300000e+01      1.000000  -157.948486   -41.330428     1.000000   \n",
       "25%     3.019625e+05      1.000000    77.081343    28.478713     1.000000   \n",
       "50%     6.004089e+06      1.000000    77.191964    28.570469     2.000000   \n",
       "75%     1.835229e+07      1.000000    77.282006    28.642758     2.000000   \n",
       "max     1.850065e+07    216.000000   174.832089    55.976980     4.000000   \n",
       "\n",
       "              Votes  Average Cost for two       Rating  \n",
       "count   9551.000000           9551.000000  9551.000000  \n",
       "mean     156.909748           1199.210763     2.891268  \n",
       "std      430.169145          16121.183073     1.128845  \n",
       "min        0.000000              0.000000     1.000000  \n",
       "25%        5.000000            250.000000     2.500000  \n",
       "50%       31.000000            400.000000     3.200000  \n",
       "75%      131.000000            700.000000     3.700000  \n",
       "max    10934.000000         800000.000000     4.900000  "
      ]
     },
     "execution_count": 7,
     "metadata": {},
     "output_type": "execute_result"
    }
   ],
   "source": [
    "ZomatoData.describe()"
   ]
  },
  {
   "cell_type": "code",
   "execution_count": 8,
   "id": "51e2b36c",
   "metadata": {},
   "outputs": [
    {
     "data": {
      "text/plain": [
       "Restaurant ID           0\n",
       "Restaurant Name         0\n",
       "Country Code            0\n",
       "City                    0\n",
       "Address                 0\n",
       "Locality                0\n",
       "Locality Verbose        0\n",
       "Longitude               0\n",
       "Latitude                0\n",
       "Cuisines                9\n",
       "Currency                0\n",
       "Has Table booking       0\n",
       "Has Online delivery     0\n",
       "Is delivering now       0\n",
       "Switch to order menu    0\n",
       "Price range             0\n",
       "Votes                   0\n",
       "Average Cost for two    0\n",
       "Rating                  0\n",
       "dtype: int64"
      ]
     },
     "execution_count": 8,
     "metadata": {},
     "output_type": "execute_result"
    }
   ],
   "source": [
    "ZomatoData.isnull().sum()"
   ]
  },
  {
   "cell_type": "code",
   "execution_count": 9,
   "id": "383787ad",
   "metadata": {},
   "outputs": [
    {
     "data": {
      "text/html": [
       "<div>\n",
       "<style scoped>\n",
       "    .dataframe tbody tr th:only-of-type {\n",
       "        vertical-align: middle;\n",
       "    }\n",
       "\n",
       "    .dataframe tbody tr th {\n",
       "        vertical-align: top;\n",
       "    }\n",
       "\n",
       "    .dataframe thead th {\n",
       "        text-align: right;\n",
       "    }\n",
       "</style>\n",
       "<table border=\"1\" class=\"dataframe\">\n",
       "  <thead>\n",
       "    <tr style=\"text-align: right;\">\n",
       "      <th></th>\n",
       "      <th>Restaurant ID</th>\n",
       "      <th>Restaurant Name</th>\n",
       "      <th>Country Code</th>\n",
       "      <th>City</th>\n",
       "      <th>Address</th>\n",
       "      <th>Locality</th>\n",
       "      <th>Locality Verbose</th>\n",
       "      <th>Longitude</th>\n",
       "      <th>Latitude</th>\n",
       "      <th>Cuisines</th>\n",
       "      <th>Currency</th>\n",
       "      <th>Has Table booking</th>\n",
       "      <th>Has Online delivery</th>\n",
       "      <th>Is delivering now</th>\n",
       "      <th>Switch to order menu</th>\n",
       "      <th>Price range</th>\n",
       "      <th>Votes</th>\n",
       "      <th>Average Cost for two</th>\n",
       "      <th>Rating</th>\n",
       "    </tr>\n",
       "  </thead>\n",
       "  <tbody>\n",
       "    <tr>\n",
       "      <th>0</th>\n",
       "      <td>6317637</td>\n",
       "      <td>Le Petit Souffle</td>\n",
       "      <td>162</td>\n",
       "      <td>Makati City</td>\n",
       "      <td>Third Floor, Century City Mall, Kalayaan Avenu...</td>\n",
       "      <td>Century City Mall, Poblacion, Makati City</td>\n",
       "      <td>Century City Mall, Poblacion, Makati City, Mak...</td>\n",
       "      <td>121.027535</td>\n",
       "      <td>14.565443</td>\n",
       "      <td>French, Japanese, Desserts</td>\n",
       "      <td>Botswana Pula(P)</td>\n",
       "      <td>Yes</td>\n",
       "      <td>No</td>\n",
       "      <td>No</td>\n",
       "      <td>No</td>\n",
       "      <td>3</td>\n",
       "      <td>314</td>\n",
       "      <td>1100</td>\n",
       "      <td>4.8</td>\n",
       "    </tr>\n",
       "    <tr>\n",
       "      <th>1</th>\n",
       "      <td>6304287</td>\n",
       "      <td>Izakaya Kikufuji</td>\n",
       "      <td>162</td>\n",
       "      <td>Makati City</td>\n",
       "      <td>Little Tokyo, 2277 Chino Roces Avenue, Legaspi...</td>\n",
       "      <td>Little Tokyo, Legaspi Village, Makati City</td>\n",
       "      <td>Little Tokyo, Legaspi Village, Makati City, Ma...</td>\n",
       "      <td>121.014101</td>\n",
       "      <td>14.553708</td>\n",
       "      <td>Japanese</td>\n",
       "      <td>Botswana Pula(P)</td>\n",
       "      <td>Yes</td>\n",
       "      <td>No</td>\n",
       "      <td>No</td>\n",
       "      <td>No</td>\n",
       "      <td>3</td>\n",
       "      <td>591</td>\n",
       "      <td>1200</td>\n",
       "      <td>4.5</td>\n",
       "    </tr>\n",
       "    <tr>\n",
       "      <th>2</th>\n",
       "      <td>6300002</td>\n",
       "      <td>Heat - Edsa Shangri-La</td>\n",
       "      <td>162</td>\n",
       "      <td>Mandaluyong City</td>\n",
       "      <td>Edsa Shangri-La, 1 Garden Way, Ortigas, Mandal...</td>\n",
       "      <td>Edsa Shangri-La, Ortigas, Mandaluyong City</td>\n",
       "      <td>Edsa Shangri-La, Ortigas, Mandaluyong City, Ma...</td>\n",
       "      <td>121.056831</td>\n",
       "      <td>14.581404</td>\n",
       "      <td>Seafood, Asian, Filipino, Indian</td>\n",
       "      <td>Botswana Pula(P)</td>\n",
       "      <td>Yes</td>\n",
       "      <td>No</td>\n",
       "      <td>No</td>\n",
       "      <td>No</td>\n",
       "      <td>4</td>\n",
       "      <td>270</td>\n",
       "      <td>4000</td>\n",
       "      <td>4.4</td>\n",
       "    </tr>\n",
       "    <tr>\n",
       "      <th>3</th>\n",
       "      <td>6318506</td>\n",
       "      <td>Ooma</td>\n",
       "      <td>162</td>\n",
       "      <td>Mandaluyong City</td>\n",
       "      <td>Third Floor, Mega Fashion Hall, SM Megamall, O...</td>\n",
       "      <td>SM Megamall, Ortigas, Mandaluyong City</td>\n",
       "      <td>SM Megamall, Ortigas, Mandaluyong City, Mandal...</td>\n",
       "      <td>121.056475</td>\n",
       "      <td>14.585318</td>\n",
       "      <td>Japanese, Sushi</td>\n",
       "      <td>Botswana Pula(P)</td>\n",
       "      <td>No</td>\n",
       "      <td>No</td>\n",
       "      <td>No</td>\n",
       "      <td>No</td>\n",
       "      <td>4</td>\n",
       "      <td>365</td>\n",
       "      <td>1500</td>\n",
       "      <td>4.9</td>\n",
       "    </tr>\n",
       "    <tr>\n",
       "      <th>4</th>\n",
       "      <td>6314302</td>\n",
       "      <td>Sambo Kojin</td>\n",
       "      <td>162</td>\n",
       "      <td>Mandaluyong City</td>\n",
       "      <td>Third Floor, Mega Atrium, SM Megamall, Ortigas...</td>\n",
       "      <td>SM Megamall, Ortigas, Mandaluyong City</td>\n",
       "      <td>SM Megamall, Ortigas, Mandaluyong City, Mandal...</td>\n",
       "      <td>121.057508</td>\n",
       "      <td>14.584450</td>\n",
       "      <td>Japanese, Korean</td>\n",
       "      <td>Botswana Pula(P)</td>\n",
       "      <td>Yes</td>\n",
       "      <td>No</td>\n",
       "      <td>No</td>\n",
       "      <td>No</td>\n",
       "      <td>4</td>\n",
       "      <td>229</td>\n",
       "      <td>1500</td>\n",
       "      <td>4.8</td>\n",
       "    </tr>\n",
       "  </tbody>\n",
       "</table>\n",
       "</div>"
      ],
      "text/plain": [
       "   Restaurant ID         Restaurant Name  Country Code              City  \\\n",
       "0        6317637        Le Petit Souffle           162       Makati City   \n",
       "1        6304287        Izakaya Kikufuji           162       Makati City   \n",
       "2        6300002  Heat - Edsa Shangri-La           162  Mandaluyong City   \n",
       "3        6318506                    Ooma           162  Mandaluyong City   \n",
       "4        6314302             Sambo Kojin           162  Mandaluyong City   \n",
       "\n",
       "                                             Address  \\\n",
       "0  Third Floor, Century City Mall, Kalayaan Avenu...   \n",
       "1  Little Tokyo, 2277 Chino Roces Avenue, Legaspi...   \n",
       "2  Edsa Shangri-La, 1 Garden Way, Ortigas, Mandal...   \n",
       "3  Third Floor, Mega Fashion Hall, SM Megamall, O...   \n",
       "4  Third Floor, Mega Atrium, SM Megamall, Ortigas...   \n",
       "\n",
       "                                     Locality  \\\n",
       "0   Century City Mall, Poblacion, Makati City   \n",
       "1  Little Tokyo, Legaspi Village, Makati City   \n",
       "2  Edsa Shangri-La, Ortigas, Mandaluyong City   \n",
       "3      SM Megamall, Ortigas, Mandaluyong City   \n",
       "4      SM Megamall, Ortigas, Mandaluyong City   \n",
       "\n",
       "                                    Locality Verbose   Longitude   Latitude  \\\n",
       "0  Century City Mall, Poblacion, Makati City, Mak...  121.027535  14.565443   \n",
       "1  Little Tokyo, Legaspi Village, Makati City, Ma...  121.014101  14.553708   \n",
       "2  Edsa Shangri-La, Ortigas, Mandaluyong City, Ma...  121.056831  14.581404   \n",
       "3  SM Megamall, Ortigas, Mandaluyong City, Mandal...  121.056475  14.585318   \n",
       "4  SM Megamall, Ortigas, Mandaluyong City, Mandal...  121.057508  14.584450   \n",
       "\n",
       "                           Cuisines          Currency Has Table booking  \\\n",
       "0        French, Japanese, Desserts  Botswana Pula(P)               Yes   \n",
       "1                          Japanese  Botswana Pula(P)               Yes   \n",
       "2  Seafood, Asian, Filipino, Indian  Botswana Pula(P)               Yes   \n",
       "3                   Japanese, Sushi  Botswana Pula(P)                No   \n",
       "4                  Japanese, Korean  Botswana Pula(P)               Yes   \n",
       "\n",
       "  Has Online delivery Is delivering now Switch to order menu  Price range  \\\n",
       "0                  No                No                   No            3   \n",
       "1                  No                No                   No            3   \n",
       "2                  No                No                   No            4   \n",
       "3                  No                No                   No            4   \n",
       "4                  No                No                   No            4   \n",
       "\n",
       "   Votes  Average Cost for two  Rating  \n",
       "0    314                  1100     4.8  \n",
       "1    591                  1200     4.5  \n",
       "2    270                  4000     4.4  \n",
       "3    365                  1500     4.9  \n",
       "4    229                  1500     4.8  "
      ]
     },
     "execution_count": 9,
     "metadata": {},
     "output_type": "execute_result"
    }
   ],
   "source": [
    "ZomatoData.head()"
   ]
  },
  {
   "cell_type": "markdown",
   "id": "76a32b4c",
   "metadata": {},
   "source": [
    "# Defining the problem statement: \n",
    "#### Predict the appropriate value of a diamond based on its characteristics\n",
    "* Target Variable: Rating\n",
    "* Predictors: Restaurant ID,\tRestaurant Name, Country Code,\tCity,\tAddress,\tLocality,\tLocality Verbose,\tLongitude,\tLatitude,\tCuisines,\tCurrency,\tHas Table booking,\tHas Online delivery,\tIs delivering now,\tSwitch to order menu,\tPrice range,\tVotes,\tAverage Cost for two,\tRating"
   ]
  },
  {
   "cell_type": "markdown",
   "id": "cb1ebdec",
   "metadata": {},
   "source": [
    "# Determining the type of Machine Learning Algorithm\n",
    "Based on the problem statement we need to create a **supervised ML Regression model**, as the target variable is Continuous."
   ]
  },
  {
   "cell_type": "markdown",
   "id": "5d45db09",
   "metadata": {},
   "source": [
    "# Looking at the distribution of Target variable\n",
    "* If target variable's distribution is too negatively skewed then the predictive modeling will not be possible.\n",
    "* Bell curve is desirable but slightly positive skew or negative skew is also fine\n",
    "* When performing Regression, make sure the histogram looks like a bell curve or slight skewed version of it. Otherwise it impacts the Machine Learning algorithms ability to learn all the scenarios."
   ]
  },
  {
   "cell_type": "code",
   "execution_count": 10,
   "id": "ec48d5d3",
   "metadata": {},
   "outputs": [
    {
     "data": {
      "text/plain": [
       "<AxesSubplot:>"
      ]
     },
     "execution_count": 10,
     "metadata": {},
     "output_type": "execute_result"
    },
    {
     "data": {
      "image/png": "[encoded data removed]",
      "text/plain": [
       "<Figure size 432x288 with 1 Axes>"
      ]
     },
     "metadata": {
      "needs_background": "light"
     },
     "output_type": "display_data"
    }
   ],
   "source": [
    "ZomatoData['Rating'].hist()"
   ]
  },
  {
   "cell_type": "code",
   "execution_count": 11,
   "id": "483f7d9f",
   "metadata": {},
   "outputs": [
    {
     "data": {
      "text/plain": [
       "Restaurant ID           9551\n",
       "Restaurant Name         7446\n",
       "Country Code              15\n",
       "City                     141\n",
       "Address                 8918\n",
       "Locality                1208\n",
       "Locality Verbose        1265\n",
       "Longitude               8120\n",
       "Latitude                8677\n",
       "Cuisines                1825\n",
       "Currency                  12\n",
       "Has Table booking          2\n",
       "Has Online delivery        2\n",
       "Is delivering now          2\n",
       "Switch to order menu       1\n",
       "Price range                4\n",
       "Votes                   1012\n",
       "Average Cost for two     140\n",
       "Rating                    33\n",
       "dtype: int64"
      ]
     },
     "execution_count": 11,
     "metadata": {},
     "output_type": "execute_result"
    }
   ],
   "source": [
    "ZomatoData.nunique()"
   ]
  },
  {
   "cell_type": "markdown",
   "id": "afaa1a60",
   "metadata": {},
   "source": [
    "# Basic Data Exploration Result\n",
    "\n",
    "Typically a categorical variable contains less than 20 Unique values\n",
    "\n",
    "* **Restaurant ID:** Qualitative. Rejected.\n",
    "\n",
    "* **Restaurant Name:** Qualitative. Rejected.\n",
    "\n",
    "* **Country Code:** Categorical. Selected.\n",
    "\n",
    "* **City:** Categorical.Rejected.Too many distinct values.\n",
    "\n",
    "* **Address:** Qualitative. Rejected.\n",
    "\n",
    "* **Locality:** Qualitative. Rejected.\n",
    "\n",
    "* **Locality verbose:** Qualitative. Rejected.\n",
    "\n",
    "* **Latitude:** Continuous. Selected.\n",
    "\n",
    "* **Longitude:** Continuous. Selected.\n",
    "\n",
    "* **Cuisines:** Continuous. Selected.\n",
    "\n",
    "* **Currency:** Categorical. Rejected.\n",
    "\n",
    "* **Has Table booking:** Categorical. Selected.\n",
    "\n",
    "* **Has Online delivery**: Categorical. Selected.\n",
    "\n",
    "* **Is delivering now**: Categorical. Selected.\n",
    "\n",
    "* **Switch to order menu:** No unique values. Rejected\n",
    "\n",
    "* **Price range**: Categorical. Selected.\n",
    "\n",
    "* **Votes:** Continuous. Selected\n",
    "\n",
    "* **Average Cost for two :** Continuous. Selected.\n",
    "\n",
    "* **Rating:** Continuous. Selected. **Target Variable!**\n"
   ]
  },
  {
   "cell_type": "markdown",
   "id": "f174b173",
   "metadata": {},
   "source": [
    "**Renaming the columns**"
   ]
  },
  {
   "cell_type": "code",
   "execution_count": 12,
   "id": "ffcc9477",
   "metadata": {},
   "outputs": [
    {
     "data": {
      "text/html": [
       "<div>\n",
       "<style scoped>\n",
       "    .dataframe tbody tr th:only-of-type {\n",
       "        vertical-align: middle;\n",
       "    }\n",
       "\n",
       "    .dataframe tbody tr th {\n",
       "        vertical-align: top;\n",
       "    }\n",
       "\n",
       "    .dataframe thead th {\n",
       "        text-align: right;\n",
       "    }\n",
       "</style>\n",
       "<table border=\"1\" class=\"dataframe\">\n",
       "  <thead>\n",
       "    <tr style=\"text-align: right;\">\n",
       "      <th></th>\n",
       "      <th>ID</th>\n",
       "      <th>Name</th>\n",
       "      <th>code</th>\n",
       "      <th>City</th>\n",
       "      <th>Address</th>\n",
       "      <th>Locality</th>\n",
       "      <th>Locality Verbose</th>\n",
       "      <th>long</th>\n",
       "      <th>lat</th>\n",
       "      <th>Cuisines</th>\n",
       "      <th>Currency</th>\n",
       "      <th>booking</th>\n",
       "      <th>delivery</th>\n",
       "      <th>online</th>\n",
       "      <th>Switch to order menu</th>\n",
       "      <th>price_range</th>\n",
       "      <th>Votes</th>\n",
       "      <th>avg_cost</th>\n",
       "      <th>Rating</th>\n",
       "    </tr>\n",
       "  </thead>\n",
       "  <tbody>\n",
       "    <tr>\n",
       "      <th>0</th>\n",
       "      <td>6317637</td>\n",
       "      <td>Le Petit Souffle</td>\n",
       "      <td>162</td>\n",
       "      <td>Makati City</td>\n",
       "      <td>Third Floor, Century City Mall, Kalayaan Avenu...</td>\n",
       "      <td>Century City Mall, Poblacion, Makati City</td>\n",
       "      <td>Century City Mall, Poblacion, Makati City, Mak...</td>\n",
       "      <td>121.027535</td>\n",
       "      <td>14.565443</td>\n",
       "      <td>French, Japanese, Desserts</td>\n",
       "      <td>Botswana Pula(P)</td>\n",
       "      <td>Yes</td>\n",
       "      <td>No</td>\n",
       "      <td>No</td>\n",
       "      <td>No</td>\n",
       "      <td>3</td>\n",
       "      <td>314</td>\n",
       "      <td>1100</td>\n",
       "      <td>4.8</td>\n",
       "    </tr>\n",
       "    <tr>\n",
       "      <th>1</th>\n",
       "      <td>6304287</td>\n",
       "      <td>Izakaya Kikufuji</td>\n",
       "      <td>162</td>\n",
       "      <td>Makati City</td>\n",
       "      <td>Little Tokyo, 2277 Chino Roces Avenue, Legaspi...</td>\n",
       "      <td>Little Tokyo, Legaspi Village, Makati City</td>\n",
       "      <td>Little Tokyo, Legaspi Village, Makati City, Ma...</td>\n",
       "      <td>121.014101</td>\n",
       "      <td>14.553708</td>\n",
       "      <td>Japanese</td>\n",
       "      <td>Botswana Pula(P)</td>\n",
       "      <td>Yes</td>\n",
       "      <td>No</td>\n",
       "      <td>No</td>\n",
       "      <td>No</td>\n",
       "      <td>3</td>\n",
       "      <td>591</td>\n",
       "      <td>1200</td>\n",
       "      <td>4.5</td>\n",
       "    </tr>\n",
       "    <tr>\n",
       "      <th>2</th>\n",
       "      <td>6300002</td>\n",
       "      <td>Heat - Edsa Shangri-La</td>\n",
       "      <td>162</td>\n",
       "      <td>Mandaluyong City</td>\n",
       "      <td>Edsa Shangri-La, 1 Garden Way, Ortigas, Mandal...</td>\n",
       "      <td>Edsa Shangri-La, Ortigas, Mandaluyong City</td>\n",
       "      <td>Edsa Shangri-La, Ortigas, Mandaluyong City, Ma...</td>\n",
       "      <td>121.056831</td>\n",
       "      <td>14.581404</td>\n",
       "      <td>Seafood, Asian, Filipino, Indian</td>\n",
       "      <td>Botswana Pula(P)</td>\n",
       "      <td>Yes</td>\n",
       "      <td>No</td>\n",
       "      <td>No</td>\n",
       "      <td>No</td>\n",
       "      <td>4</td>\n",
       "      <td>270</td>\n",
       "      <td>4000</td>\n",
       "      <td>4.4</td>\n",
       "    </tr>\n",
       "    <tr>\n",
       "      <th>3</th>\n",
       "      <td>6318506</td>\n",
       "      <td>Ooma</td>\n",
       "      <td>162</td>\n",
       "      <td>Mandaluyong City</td>\n",
       "      <td>Third Floor, Mega Fashion Hall, SM Megamall, O...</td>\n",
       "      <td>SM Megamall, Ortigas, Mandaluyong City</td>\n",
       "      <td>SM Megamall, Ortigas, Mandaluyong City, Mandal...</td>\n",
       "      <td>121.056475</td>\n",
       "      <td>14.585318</td>\n",
       "      <td>Japanese, Sushi</td>\n",
       "      <td>Botswana Pula(P)</td>\n",
       "      <td>No</td>\n",
       "      <td>No</td>\n",
       "      <td>No</td>\n",
       "      <td>No</td>\n",
       "      <td>4</td>\n",
       "      <td>365</td>\n",
       "      <td>1500</td>\n",
       "      <td>4.9</td>\n",
       "    </tr>\n",
       "    <tr>\n",
       "      <th>4</th>\n",
       "      <td>6314302</td>\n",
       "      <td>Sambo Kojin</td>\n",
       "      <td>162</td>\n",
       "      <td>Mandaluyong City</td>\n",
       "      <td>Third Floor, Mega Atrium, SM Megamall, Ortigas...</td>\n",
       "      <td>SM Megamall, Ortigas, Mandaluyong City</td>\n",
       "      <td>SM Megamall, Ortigas, Mandaluyong City, Mandal...</td>\n",
       "      <td>121.057508</td>\n",
       "      <td>14.584450</td>\n",
       "      <td>Japanese, Korean</td>\n",
       "      <td>Botswana Pula(P)</td>\n",
       "      <td>Yes</td>\n",
       "      <td>No</td>\n",
       "      <td>No</td>\n",
       "      <td>No</td>\n",
       "      <td>4</td>\n",
       "      <td>229</td>\n",
       "      <td>1500</td>\n",
       "      <td>4.8</td>\n",
       "    </tr>\n",
       "  </tbody>\n",
       "</table>\n",
       "</div>"
      ],
      "text/plain": [
       "        ID                    Name  code              City  \\\n",
       "0  6317637        Le Petit Souffle   162       Makati City   \n",
       "1  6304287        Izakaya Kikufuji   162       Makati City   \n",
       "2  6300002  Heat - Edsa Shangri-La   162  Mandaluyong City   \n",
       "3  6318506                    Ooma   162  Mandaluyong City   \n",
       "4  6314302             Sambo Kojin   162  Mandaluyong City   \n",
       "\n",
       "                                             Address  \\\n",
       "0  Third Floor, Century City Mall, Kalayaan Avenu...   \n",
       "1  Little Tokyo, 2277 Chino Roces Avenue, Legaspi...   \n",
       "2  Edsa Shangri-La, 1 Garden Way, Ortigas, Mandal...   \n",
       "3  Third Floor, Mega Fashion Hall, SM Megamall, O...   \n",
       "4  Third Floor, Mega Atrium, SM Megamall, Ortigas...   \n",
       "\n",
       "                                     Locality  \\\n",
       "0   Century City Mall, Poblacion, Makati City   \n",
       "1  Little Tokyo, Legaspi Village, Makati City   \n",
       "2  Edsa Shangri-La, Ortigas, Mandaluyong City   \n",
       "3      SM Megamall, Ortigas, Mandaluyong City   \n",
       "4      SM Megamall, Ortigas, Mandaluyong City   \n",
       "\n",
       "                                    Locality Verbose        long        lat  \\\n",
       "0  Century City Mall, Poblacion, Makati City, Mak...  121.027535  14.565443   \n",
       "1  Little Tokyo, Legaspi Village, Makati City, Ma...  121.014101  14.553708   \n",
       "2  Edsa Shangri-La, Ortigas, Mandaluyong City, Ma...  121.056831  14.581404   \n",
       "3  SM Megamall, Ortigas, Mandaluyong City, Mandal...  121.056475  14.585318   \n",
       "4  SM Megamall, Ortigas, Mandaluyong City, Mandal...  121.057508  14.584450   \n",
       "\n",
       "                           Cuisines          Currency booking delivery online  \\\n",
       "0        French, Japanese, Desserts  Botswana Pula(P)     Yes       No     No   \n",
       "1                          Japanese  Botswana Pula(P)     Yes       No     No   \n",
       "2  Seafood, Asian, Filipino, Indian  Botswana Pula(P)     Yes       No     No   \n",
       "3                   Japanese, Sushi  Botswana Pula(P)      No       No     No   \n",
       "4                  Japanese, Korean  Botswana Pula(P)     Yes       No     No   \n",
       "\n",
       "  Switch to order menu  price_range  Votes  avg_cost  Rating  \n",
       "0                   No            3    314      1100     4.8  \n",
       "1                   No            3    591      1200     4.5  \n",
       "2                   No            4    270      4000     4.4  \n",
       "3                   No            4    365      1500     4.9  \n",
       "4                   No            4    229      1500     4.8  "
      ]
     },
     "execution_count": 12,
     "metadata": {},
     "output_type": "execute_result"
    }
   ],
   "source": [
    "ZomatoData.rename(columns={'Restaurant ID':'ID',\n",
    "                  'Restaurant Name':'Name',\n",
    "                  'Country Code':'code',\n",
    "                  'Latitude':'lat',\n",
    "                  'Longitude':'long',\n",
    "                  'Has Table booking':'booking',\n",
    "                  'Has Online delivery':'delivery',\n",
    "                  'Is delivering now':'online',\n",
    "                  'Price range':'price_range',\n",
    "                  'Average Cost for two':'avg_cost'\n",
    "                  },inplace=True)\n",
    "ZomatoData.head()"
   ]
  },
  {
   "cell_type": "markdown",
   "id": "d5d07986",
   "metadata": {},
   "source": [
    "# Feature Engineering"
   ]
  },
  {
   "cell_type": "code",
   "execution_count": 13,
   "id": "36610d1e",
   "metadata": {},
   "outputs": [],
   "source": [
    "# Function to count the number of cuisines\n",
    "def counter(inp):\n",
    "    CuisinesNum=len(str(inp).split(','))\n",
    "    return(CuisinesNum)"
   ]
  },
  {
   "cell_type": "code",
   "execution_count": 14,
   "id": "32c48566",
   "metadata": {},
   "outputs": [
    {
     "data": {
      "text/plain": [
       "13"
      ]
     },
     "execution_count": 14,
     "metadata": {},
     "output_type": "execute_result"
    }
   ],
   "source": [
    "len(str(ZomatoData['Cuisines']).split(','))"
   ]
  },
  {
   "cell_type": "code",
   "execution_count": 15,
   "id": "0e7fbfe5",
   "metadata": {},
   "outputs": [
    {
     "data": {
      "text/html": [
       "<div>\n",
       "<style scoped>\n",
       "    .dataframe tbody tr th:only-of-type {\n",
       "        vertical-align: middle;\n",
       "    }\n",
       "\n",
       "    .dataframe tbody tr th {\n",
       "        vertical-align: top;\n",
       "    }\n",
       "\n",
       "    .dataframe thead th {\n",
       "        text-align: right;\n",
       "    }\n",
       "</style>\n",
       "<table border=\"1\" class=\"dataframe\">\n",
       "  <thead>\n",
       "    <tr style=\"text-align: right;\">\n",
       "      <th></th>\n",
       "      <th>ID</th>\n",
       "      <th>Name</th>\n",
       "      <th>code</th>\n",
       "      <th>City</th>\n",
       "      <th>Address</th>\n",
       "      <th>Locality</th>\n",
       "      <th>Locality Verbose</th>\n",
       "      <th>long</th>\n",
       "      <th>lat</th>\n",
       "      <th>Cuisines</th>\n",
       "      <th>Currency</th>\n",
       "      <th>booking</th>\n",
       "      <th>delivery</th>\n",
       "      <th>online</th>\n",
       "      <th>Switch to order menu</th>\n",
       "      <th>price_range</th>\n",
       "      <th>Votes</th>\n",
       "      <th>avg_cost</th>\n",
       "      <th>Rating</th>\n",
       "      <th>Cuisine Count</th>\n",
       "    </tr>\n",
       "  </thead>\n",
       "  <tbody>\n",
       "    <tr>\n",
       "      <th>0</th>\n",
       "      <td>6317637</td>\n",
       "      <td>Le Petit Souffle</td>\n",
       "      <td>162</td>\n",
       "      <td>Makati City</td>\n",
       "      <td>Third Floor, Century City Mall, Kalayaan Avenu...</td>\n",
       "      <td>Century City Mall, Poblacion, Makati City</td>\n",
       "      <td>Century City Mall, Poblacion, Makati City, Mak...</td>\n",
       "      <td>121.027535</td>\n",
       "      <td>14.565443</td>\n",
       "      <td>French, Japanese, Desserts</td>\n",
       "      <td>Botswana Pula(P)</td>\n",
       "      <td>Yes</td>\n",
       "      <td>No</td>\n",
       "      <td>No</td>\n",
       "      <td>No</td>\n",
       "      <td>3</td>\n",
       "      <td>314</td>\n",
       "      <td>1100</td>\n",
       "      <td>4.8</td>\n",
       "      <td>3</td>\n",
       "    </tr>\n",
       "    <tr>\n",
       "      <th>1</th>\n",
       "      <td>6304287</td>\n",
       "      <td>Izakaya Kikufuji</td>\n",
       "      <td>162</td>\n",
       "      <td>Makati City</td>\n",
       "      <td>Little Tokyo, 2277 Chino Roces Avenue, Legaspi...</td>\n",
       "      <td>Little Tokyo, Legaspi Village, Makati City</td>\n",
       "      <td>Little Tokyo, Legaspi Village, Makati City, Ma...</td>\n",
       "      <td>121.014101</td>\n",
       "      <td>14.553708</td>\n",
       "      <td>Japanese</td>\n",
       "      <td>Botswana Pula(P)</td>\n",
       "      <td>Yes</td>\n",
       "      <td>No</td>\n",
       "      <td>No</td>\n",
       "      <td>No</td>\n",
       "      <td>3</td>\n",
       "      <td>591</td>\n",
       "      <td>1200</td>\n",
       "      <td>4.5</td>\n",
       "      <td>1</td>\n",
       "    </tr>\n",
       "    <tr>\n",
       "      <th>2</th>\n",
       "      <td>6300002</td>\n",
       "      <td>Heat - Edsa Shangri-La</td>\n",
       "      <td>162</td>\n",
       "      <td>Mandaluyong City</td>\n",
       "      <td>Edsa Shangri-La, 1 Garden Way, Ortigas, Mandal...</td>\n",
       "      <td>Edsa Shangri-La, Ortigas, Mandaluyong City</td>\n",
       "      <td>Edsa Shangri-La, Ortigas, Mandaluyong City, Ma...</td>\n",
       "      <td>121.056831</td>\n",
       "      <td>14.581404</td>\n",
       "      <td>Seafood, Asian, Filipino, Indian</td>\n",
       "      <td>Botswana Pula(P)</td>\n",
       "      <td>Yes</td>\n",
       "      <td>No</td>\n",
       "      <td>No</td>\n",
       "      <td>No</td>\n",
       "      <td>4</td>\n",
       "      <td>270</td>\n",
       "      <td>4000</td>\n",
       "      <td>4.4</td>\n",
       "      <td>4</td>\n",
       "    </tr>\n",
       "    <tr>\n",
       "      <th>3</th>\n",
       "      <td>6318506</td>\n",
       "      <td>Ooma</td>\n",
       "      <td>162</td>\n",
       "      <td>Mandaluyong City</td>\n",
       "      <td>Third Floor, Mega Fashion Hall, SM Megamall, O...</td>\n",
       "      <td>SM Megamall, Ortigas, Mandaluyong City</td>\n",
       "      <td>SM Megamall, Ortigas, Mandaluyong City, Mandal...</td>\n",
       "      <td>121.056475</td>\n",
       "      <td>14.585318</td>\n",
       "      <td>Japanese, Sushi</td>\n",
       "      <td>Botswana Pula(P)</td>\n",
       "      <td>No</td>\n",
       "      <td>No</td>\n",
       "      <td>No</td>\n",
       "      <td>No</td>\n",
       "      <td>4</td>\n",
       "      <td>365</td>\n",
       "      <td>1500</td>\n",
       "      <td>4.9</td>\n",
       "      <td>2</td>\n",
       "    </tr>\n",
       "    <tr>\n",
       "      <th>4</th>\n",
       "      <td>6314302</td>\n",
       "      <td>Sambo Kojin</td>\n",
       "      <td>162</td>\n",
       "      <td>Mandaluyong City</td>\n",
       "      <td>Third Floor, Mega Atrium, SM Megamall, Ortigas...</td>\n",
       "      <td>SM Megamall, Ortigas, Mandaluyong City</td>\n",
       "      <td>SM Megamall, Ortigas, Mandaluyong City, Mandal...</td>\n",
       "      <td>121.057508</td>\n",
       "      <td>14.584450</td>\n",
       "      <td>Japanese, Korean</td>\n",
       "      <td>Botswana Pula(P)</td>\n",
       "      <td>Yes</td>\n",
       "      <td>No</td>\n",
       "      <td>No</td>\n",
       "      <td>No</td>\n",
       "      <td>4</td>\n",
       "      <td>229</td>\n",
       "      <td>1500</td>\n",
       "      <td>4.8</td>\n",
       "      <td>2</td>\n",
       "    </tr>\n",
       "  </tbody>\n",
       "</table>\n",
       "</div>"
      ],
      "text/plain": [
       "        ID                    Name  code              City  \\\n",
       "0  6317637        Le Petit Souffle   162       Makati City   \n",
       "1  6304287        Izakaya Kikufuji   162       Makati City   \n",
       "2  6300002  Heat - Edsa Shangri-La   162  Mandaluyong City   \n",
       "3  6318506                    Ooma   162  Mandaluyong City   \n",
       "4  6314302             Sambo Kojin   162  Mandaluyong City   \n",
       "\n",
       "                                             Address  \\\n",
       "0  Third Floor, Century City Mall, Kalayaan Avenu...   \n",
       "1  Little Tokyo, 2277 Chino Roces Avenue, Legaspi...   \n",
       "2  Edsa Shangri-La, 1 Garden Way, Ortigas, Mandal...   \n",
       "3  Third Floor, Mega Fashion Hall, SM Megamall, O...   \n",
       "4  Third Floor, Mega Atrium, SM Megamall, Ortigas...   \n",
       "\n",
       "                                     Locality  \\\n",
       "0   Century City Mall, Poblacion, Makati City   \n",
       "1  Little Tokyo, Legaspi Village, Makati City   \n",
       "2  Edsa Shangri-La, Ortigas, Mandaluyong City   \n",
       "3      SM Megamall, Ortigas, Mandaluyong City   \n",
       "4      SM Megamall, Ortigas, Mandaluyong City   \n",
       "\n",
       "                                    Locality Verbose        long        lat  \\\n",
       "0  Century City Mall, Poblacion, Makati City, Mak...  121.027535  14.565443   \n",
       "1  Little Tokyo, Legaspi Village, Makati City, Ma...  121.014101  14.553708   \n",
       "2  Edsa Shangri-La, Ortigas, Mandaluyong City, Ma...  121.056831  14.581404   \n",
       "3  SM Megamall, Ortigas, Mandaluyong City, Mandal...  121.056475  14.585318   \n",
       "4  SM Megamall, Ortigas, Mandaluyong City, Mandal...  121.057508  14.584450   \n",
       "\n",
       "                           Cuisines          Currency booking delivery online  \\\n",
       "0        French, Japanese, Desserts  Botswana Pula(P)     Yes       No     No   \n",
       "1                          Japanese  Botswana Pula(P)     Yes       No     No   \n",
       "2  Seafood, Asian, Filipino, Indian  Botswana Pula(P)     Yes       No     No   \n",
       "3                   Japanese, Sushi  Botswana Pula(P)      No       No     No   \n",
       "4                  Japanese, Korean  Botswana Pula(P)     Yes       No     No   \n",
       "\n",
       "  Switch to order menu  price_range  Votes  avg_cost  Rating  Cuisine Count  \n",
       "0                   No            3    314      1100     4.8              3  \n",
       "1                   No            3    591      1200     4.5              1  \n",
       "2                   No            4    270      4000     4.4              4  \n",
       "3                   No            4    365      1500     4.9              2  \n",
       "4                   No            4    229      1500     4.8              2  "
      ]
     },
     "execution_count": 15,
     "metadata": {},
     "output_type": "execute_result"
    }
   ],
   "source": [
    "# Creating a new feature in data\n",
    "ZomatoData['Cuisine Count']=ZomatoData['Cuisines'].apply(counter)\n",
    "ZomatoData.head()"
   ]
  },
  {
   "cell_type": "markdown",
   "id": "cda6ea8b",
   "metadata": {},
   "source": [
    "# Dropping unnecessary columns"
   ]
  },
  {
   "cell_type": "code",
   "execution_count": 16,
   "id": "71ec216a",
   "metadata": {},
   "outputs": [],
   "source": [
    "ZomatoData.drop(['ID','City','Name','Address','Locality','Locality Verbose','Switch to order menu','Currency','Cuisines'],axis=1,inplace=True)"
   ]
  },
  {
   "cell_type": "code",
   "execution_count": 17,
   "id": "6e21220d",
   "metadata": {},
   "outputs": [
    {
     "data": {
      "text/html": [
       "<div>\n",
       "<style scoped>\n",
       "    .dataframe tbody tr th:only-of-type {\n",
       "        vertical-align: middle;\n",
       "    }\n",
       "\n",
       "    .dataframe tbody tr th {\n",
       "        vertical-align: top;\n",
       "    }\n",
       "\n",
       "    .dataframe thead th {\n",
       "        text-align: right;\n",
       "    }\n",
       "</style>\n",
       "<table border=\"1\" class=\"dataframe\">\n",
       "  <thead>\n",
       "    <tr style=\"text-align: right;\">\n",
       "      <th></th>\n",
       "      <th>code</th>\n",
       "      <th>long</th>\n",
       "      <th>lat</th>\n",
       "      <th>booking</th>\n",
       "      <th>delivery</th>\n",
       "      <th>online</th>\n",
       "      <th>price_range</th>\n",
       "      <th>Votes</th>\n",
       "      <th>avg_cost</th>\n",
       "      <th>Rating</th>\n",
       "      <th>Cuisine Count</th>\n",
       "    </tr>\n",
       "  </thead>\n",
       "  <tbody>\n",
       "    <tr>\n",
       "      <th>0</th>\n",
       "      <td>162</td>\n",
       "      <td>121.027535</td>\n",
       "      <td>14.565443</td>\n",
       "      <td>Yes</td>\n",
       "      <td>No</td>\n",
       "      <td>No</td>\n",
       "      <td>3</td>\n",
       "      <td>314</td>\n",
       "      <td>1100</td>\n",
       "      <td>4.8</td>\n",
       "      <td>3</td>\n",
       "    </tr>\n",
       "    <tr>\n",
       "      <th>1</th>\n",
       "      <td>162</td>\n",
       "      <td>121.014101</td>\n",
       "      <td>14.553708</td>\n",
       "      <td>Yes</td>\n",
       "      <td>No</td>\n",
       "      <td>No</td>\n",
       "      <td>3</td>\n",
       "      <td>591</td>\n",
       "      <td>1200</td>\n",
       "      <td>4.5</td>\n",
       "      <td>1</td>\n",
       "    </tr>\n",
       "    <tr>\n",
       "      <th>2</th>\n",
       "      <td>162</td>\n",
       "      <td>121.056831</td>\n",
       "      <td>14.581404</td>\n",
       "      <td>Yes</td>\n",
       "      <td>No</td>\n",
       "      <td>No</td>\n",
       "      <td>4</td>\n",
       "      <td>270</td>\n",
       "      <td>4000</td>\n",
       "      <td>4.4</td>\n",
       "      <td>4</td>\n",
       "    </tr>\n",
       "    <tr>\n",
       "      <th>3</th>\n",
       "      <td>162</td>\n",
       "      <td>121.056475</td>\n",
       "      <td>14.585318</td>\n",
       "      <td>No</td>\n",
       "      <td>No</td>\n",
       "      <td>No</td>\n",
       "      <td>4</td>\n",
       "      <td>365</td>\n",
       "      <td>1500</td>\n",
       "      <td>4.9</td>\n",
       "      <td>2</td>\n",
       "    </tr>\n",
       "    <tr>\n",
       "      <th>4</th>\n",
       "      <td>162</td>\n",
       "      <td>121.057508</td>\n",
       "      <td>14.584450</td>\n",
       "      <td>Yes</td>\n",
       "      <td>No</td>\n",
       "      <td>No</td>\n",
       "      <td>4</td>\n",
       "      <td>229</td>\n",
       "      <td>1500</td>\n",
       "      <td>4.8</td>\n",
       "      <td>2</td>\n",
       "    </tr>\n",
       "  </tbody>\n",
       "</table>\n",
       "</div>"
      ],
      "text/plain": [
       "   code        long        lat booking delivery online  price_range  Votes  \\\n",
       "0   162  121.027535  14.565443     Yes       No     No            3    314   \n",
       "1   162  121.014101  14.553708     Yes       No     No            3    591   \n",
       "2   162  121.056831  14.581404     Yes       No     No            4    270   \n",
       "3   162  121.056475  14.585318      No       No     No            4    365   \n",
       "4   162  121.057508  14.584450     Yes       No     No            4    229   \n",
       "\n",
       "   avg_cost  Rating  Cuisine Count  \n",
       "0      1100     4.8              3  \n",
       "1      1200     4.5              1  \n",
       "2      4000     4.4              4  \n",
       "3      1500     4.9              2  \n",
       "4      1500     4.8              2  "
      ]
     },
     "execution_count": 17,
     "metadata": {},
     "output_type": "execute_result"
    }
   ],
   "source": [
    "ZomatoData.head()"
   ]
  },
  {
   "cell_type": "markdown",
   "id": "5e232c22",
   "metadata": {},
   "source": [
    "# Visual Exploratory Data Analysis\n",
    "* Categorical variables: Bar plot\n",
    "* Continuous variables: Histogram\n",
    "\n",
    "**Categorical Predictors:** country code, city, booking, delivery, online, price_range"
   ]
  },
  {
   "cell_type": "code",
   "execution_count": 18,
   "id": "aa73a4a7",
   "metadata": {},
   "outputs": [],
   "source": [
    "# Plotting multiple bar charts at once for categorical variables\n",
    "# Since there is no default function which can plot bar charts for multiple columns at once\n",
    "# we are defining our own function for the same\n",
    "\n",
    "def PlotChart(InpData, CatCols):\n",
    "    fig,subplot=plt.subplots(nrows=1,ncols=len(CatCols),figsize=(30,10))\n",
    "    \n",
    "    for ColName,PlotNum in zip(CatCols,range(len(CatCols))):\n",
    "        InpData.groupby(ColName).size().plot(kind='bar',ax=subplot[PlotNum])"
   ]
  },
  {
   "cell_type": "code",
   "execution_count": 19,
   "id": "150644be",
   "metadata": {},
   "outputs": [
    {
     "data": {
      "image/png": "[encoded data removed]",
      "text/plain": [
       "<Figure size 2160x720 with 5 Axes>"
      ]
     },
     "metadata": {
      "needs_background": "light"
     },
     "output_type": "display_data"
    }
   ],
   "source": [
    "CatCol=['code','booking','delivery','online','price_range']\n",
    "\n",
    "PlotChart(InpData=ZomatoData, CatCols=CatCol)"
   ]
  },
  {
   "cell_type": "markdown",
   "id": "51460d46",
   "metadata": {},
   "source": [
    "## Bar Charts Interpretation\n",
    "These bar charts represent the frequencies of each category in the Y-axis and the category names in the X-axis.\n",
    "\n",
    "In the ideal bar chart each category has comparable frequency. Hence, there are enough rows for each category in the data for the ML algorithm to learn.\n",
    "\n",
    "If there is a column which shows too skewed distribution where there is only one dominant bar and the other categories are present in very low numbers. These kind of columns may not be very helpful in machine learning. We confirm this in the correlation analysis section and take a final call to select or reject the column.\n",
    "\n",
    "**code,online are too skewed. Hence rejected.**\n",
    "\n",
    "<b>Selected Categorical Variables</b>: booking,delivery,price_range\n",
    "\n",
    "\n",
    "\n",
    "### Visualize distribution of all the Continuous Predictor variables in the data using histograms\n",
    "Based on the Basic Data Exploration, the continuous predictor variables are lat,long,Votes,avg_cost"
   ]
  },
  {
   "cell_type": "code",
   "execution_count": 20,
   "id": "f3f50cb8",
   "metadata": {},
   "outputs": [
    {
     "data": {
      "text/plain": [
       "array([[<AxesSubplot:title={'center':'lat'}>,\n",
       "        <AxesSubplot:title={'center':'long'}>],\n",
       "       [<AxesSubplot:title={'center':'Votes'}>,\n",
       "        <AxesSubplot:title={'center':'avg_cost'}>]], dtype=object)"
      ]
     },
     "execution_count": 20,
     "metadata": {},
     "output_type": "execute_result"
    },
    {
     "data": {
      "image/png": "[encoded data removed]",
      "text/plain": [
       "<Figure size 1080x1080 with 4 Axes>"
      ]
     },
     "metadata": {
      "needs_background": "light"
     },
     "output_type": "display_data"
    }
   ],
   "source": [
    "ContCol=['lat','long','Votes','avg_cost']\n",
    "ZomatoData.hist(ContCol,figsize=(15,15))"
   ]
  },
  {
   "cell_type": "markdown",
   "id": "689c6c17",
   "metadata": {},
   "source": [
    "## Histogram Interpretation\n",
    "Histograms shows us the data distribution for a single continuous variable.\n",
    "\n",
    "The ideal outcome for histogram is a bell curve or slightly skewed bell curve. If there is too much skewness, then outlier treatment should be done and the column should be re-examined, if that also does not solve the problem then only reject the column.\n",
    "\n",
    "<b>Selected Continuous Variables:</b>\n",
    "* <b>lat</b> : Selected. The distribution is good.\n",
    "* <b>long</b>: Selected. The distribution is good.\n",
    "* <b>votes</b>: Selected. The distribution is good.Outliers present.\n",
    "* <b>avg_cost</b>: Selected. The distribution is good. Outliers present."
   ]
  },
  {
   "cell_type": "markdown",
   "id": "6c836314",
   "metadata": {},
   "source": [
    "# Outlier treatment\n",
    "Outliers are extreme values in the data which are far away from most of the values.\n",
    "\n",
    "Outlier must be treated one column at a time. As the treatment will be slightly different for each column.\n",
    "\n",
    "<b>Why I should treat the outliers?</b>\n",
    "\n",
    "Outliers bias the training of machine learning models. As the algorithm tries to fit the extreme value, it goes away from majority of the data.\n",
    "\n",
    "There are below two options to treat outliers in the data.\n",
    "\n",
    "* Option-1: Delete the outlier Records. Only if there are just few rows lost.\n",
    "* Option-2: Impute the outlier values with a logical business value\n",
    "\n",
    "Below we are finding out the most logical value to be replaced in place of outliers by looking at the histogram."
   ]
  },
  {
   "cell_type": "markdown",
   "id": "e8c6cede",
   "metadata": {},
   "source": [
    "**Treating the outliers**"
   ]
  },
  {
   "cell_type": "code",
   "execution_count": 21,
   "id": "fccf97bb",
   "metadata": {},
   "outputs": [
    {
     "data": {
      "text/plain": [
       "19"
      ]
     },
     "execution_count": 21,
     "metadata": {},
     "output_type": "execute_result"
    }
   ],
   "source": [
    "len(ZomatoData[ZomatoData['Votes']>=4000])"
   ]
  },
  {
   "cell_type": "code",
   "execution_count": 22,
   "id": "732bb66f",
   "metadata": {},
   "outputs": [
    {
     "data": {
      "text/plain": [
       "7863    3986\n",
       "821     3848\n",
       "3992    3697\n",
       "3119    3591\n",
       "1861    3569\n",
       "        ... \n",
       "4801       0\n",
       "4803       0\n",
       "4805       0\n",
       "4807       0\n",
       "4784       0\n",
       "Name: Votes, Length: 9532, dtype: int64"
      ]
     },
     "execution_count": 22,
     "metadata": {},
     "output_type": "execute_result"
    }
   ],
   "source": [
    "ZomatoData['Votes'][ZomatoData['Votes']<4000].sort_values(ascending=False)"
   ]
  },
  {
   "cell_type": "code",
   "execution_count": 23,
   "id": "0b03413c",
   "metadata": {},
   "outputs": [],
   "source": [
    "ZomatoData['Votes'][ZomatoData['Votes']>4000] =3986"
   ]
  },
  {
   "cell_type": "code",
   "execution_count": 24,
   "id": "f1681067",
   "metadata": {},
   "outputs": [
    {
     "data": {
      "text/plain": [
       "<AxesSubplot:>"
      ]
     },
     "execution_count": 24,
     "metadata": {},
     "output_type": "execute_result"
    },
    {
     "data": {
      "image/png": "[encoded data removed]",
      "text/plain": [
       "<Figure size 432x288 with 1 Axes>"
      ]
     },
     "metadata": {
      "needs_background": "light"
     },
     "output_type": "display_data"
    }
   ],
   "source": [
    "ZomatoData['Votes'].hist()"
   ]
  },
  {
   "cell_type": "code",
   "execution_count": 25,
   "id": "e3536470",
   "metadata": {},
   "outputs": [
    {
     "data": {
      "text/plain": [
       "21"
      ]
     },
     "execution_count": 25,
     "metadata": {},
     "output_type": "execute_result"
    }
   ],
   "source": [
    "len(ZomatoData[ZomatoData['avg_cost']>=50000])"
   ]
  },
  {
   "cell_type": "code",
   "execution_count": 26,
   "id": "d448fa83",
   "metadata": {},
   "outputs": [
    {
     "data": {
      "text/plain": [
       "7543    8000\n",
       "4088    7000\n",
       "4087    6500\n",
       "7494    6000\n",
       "7538    6000\n",
       "        ... \n",
       "85         0\n",
       "87         0\n",
       "240        0\n",
       "397        0\n",
       "9242       0\n",
       "Name: avg_cost, Length: 9530, dtype: int64"
      ]
     },
     "execution_count": 26,
     "metadata": {},
     "output_type": "execute_result"
    }
   ],
   "source": [
    "ZomatoData['avg_cost'][ZomatoData['avg_cost']<50000].sort_values(ascending=False)"
   ]
  },
  {
   "cell_type": "code",
   "execution_count": 27,
   "id": "437b9ac3",
   "metadata": {},
   "outputs": [],
   "source": [
    "ZomatoData['avg_cost'][ZomatoData['avg_cost']>50000] =8000"
   ]
  },
  {
   "cell_type": "code",
   "execution_count": 28,
   "id": "2271bb5f",
   "metadata": {},
   "outputs": [
    {
     "data": {
      "text/plain": [
       "<AxesSubplot:>"
      ]
     },
     "execution_count": 28,
     "metadata": {},
     "output_type": "execute_result"
    },
    {
     "data": {
      "image/png": "[encoded data removed]",
      "text/plain": [
       "<Figure size 432x288 with 1 Axes>"
      ]
     },
     "metadata": {
      "needs_background": "light"
     },
     "output_type": "display_data"
    }
   ],
   "source": [
    "ZomatoData['avg_cost'].hist()"
   ]
  },
  {
   "cell_type": "markdown",
   "id": "023e097f",
   "metadata": {},
   "source": [
    "# Feature Selection (Bi-Variate analysis)\n",
    "The best columns/features which are correlated to the Target Variable are estimated by measuring the correlation values or ANOVA/Chi-Square tests.\n",
    "\n",
    "## Visual exploration of relationship between variables\n",
    "* Continuous Vs Continuous ---- Scatter Plot\n",
    "* Categorical Vs Continuous---- Box Plot\n",
    "* Categorical Vs Categorical---- Grouped Bar Plots\n",
    "\n",
    "## Statistical measurement of relationship strength between variables\n",
    "* Continuous Vs Continuous ---- Correlation matrix\n",
    "* Categorical Vs Continuous---- ANOVA test\n",
    "* Categorical Vs Categorical--- Chi-Square test\n",
    "\n",
    "In this case study the Target variable is Continuous, hence below two scenarios will be present\n",
    "* Continuous Target Variable Vs Continuous Predictor\n",
    "* Continuous Target Variable Vs Categorical Predictor"
   ]
  },
  {
   "cell_type": "code",
   "execution_count": 29,
   "id": "8eb8c9ea",
   "metadata": {},
   "outputs": [
    {
     "data": {
      "image/png": "[encoded data removed]",
      "text/plain": [
       "<Figure size 720x360 with 1 Axes>"
      ]
     },
     "metadata": {
      "needs_background": "light"
     },
     "output_type": "display_data"
    },
    {
     "data": {
      "image/png": "[encoded data removed]",
      "text/plain": [
       "<Figure size 720x360 with 1 Axes>"
      ]
     },
     "metadata": {
      "needs_background": "light"
     },
     "output_type": "display_data"
    },
    {
     "data": {
      "image/png": "[encoded data removed]",
      "text/plain": [
       "<Figure size 720x360 with 1 Axes>"
      ]
     },
     "metadata": {
      "needs_background": "light"
     },
     "output_type": "display_data"
    },
    {
     "data": {
      "image/png": "[encoded data removed]",
      "text/plain": [
       "<Figure size 720x360 with 1 Axes>"
      ]
     },
     "metadata": {
      "needs_background": "light"
     },
     "output_type": "display_data"
    }
   ],
   "source": [
    "for pred in ContCol:\n",
    "    ZomatoData.plot.scatter(x=pred,y='Rating',figsize=(10,5))"
   ]
  },
  {
   "cell_type": "markdown",
   "id": "cae47624",
   "metadata": {},
   "source": [
    "# Scatter charts interpretation\n",
    "\n",
    "See if there is a visible trend or not. There could be three scenarios:\n",
    "1. Increasing Trend:\n",
    "This means both variables are positively correlated.\n",
    "\n",
    "2. Decreasing Trend:\n",
    "This means both variables are negatively correlated. \n",
    "\n",
    "3. No Trend:\n",
    "You cannot see any clear increasing or decreasing trend. This means there is no correlation between the variables. Hence the predictor cannot be used for ML."
   ]
  },
  {
   "cell_type": "markdown",
   "id": "41d706a1",
   "metadata": {},
   "source": [
    "# Statistical Feature Selection (Continuous Vs Continuous) using Correlation value\n",
    "\n",
    "* Correlation between (-1,0) means inversely proportional, the scatter plot will show a downward trend\n",
    "* Correlation between (0,1) means directly proportional, the scatter plot will show a upward trend\n",
    "* Correlation near {0} means No relationship, the scatter plot will show no clear trend.\n",
    "* If Correlation value between two variables is > 0.5 in magnitude, it indicates good relationship <b>the sign does not matter</b>"
   ]
  },
  {
   "cell_type": "markdown",
   "id": "c86e2bca",
   "metadata": {},
   "source": [
    "**Calculating correlation matrix**"
   ]
  },
  {
   "cell_type": "code",
   "execution_count": 30,
   "id": "2c4562b4",
   "metadata": {},
   "outputs": [
    {
     "data": {
      "text/html": [
       "<div>\n",
       "<style scoped>\n",
       "    .dataframe tbody tr th:only-of-type {\n",
       "        vertical-align: middle;\n",
       "    }\n",
       "\n",
       "    .dataframe tbody tr th {\n",
       "        vertical-align: top;\n",
       "    }\n",
       "\n",
       "    .dataframe thead th {\n",
       "        text-align: right;\n",
       "    }\n",
       "</style>\n",
       "<table border=\"1\" class=\"dataframe\">\n",
       "  <thead>\n",
       "    <tr style=\"text-align: right;\">\n",
       "      <th></th>\n",
       "      <th>Rating</th>\n",
       "      <th>lat</th>\n",
       "      <th>long</th>\n",
       "      <th>Votes</th>\n",
       "      <th>avg_cost</th>\n",
       "    </tr>\n",
       "  </thead>\n",
       "  <tbody>\n",
       "    <tr>\n",
       "      <th>Rating</th>\n",
       "      <td>1.000000</td>\n",
       "      <td>-0.019806</td>\n",
       "      <td>-0.145930</td>\n",
       "      <td>0.385249</td>\n",
       "      <td>0.248981</td>\n",
       "    </tr>\n",
       "    <tr>\n",
       "      <th>lat</th>\n",
       "      <td>-0.019806</td>\n",
       "      <td>1.000000</td>\n",
       "      <td>0.043207</td>\n",
       "      <td>-0.019687</td>\n",
       "      <td>-0.064748</td>\n",
       "    </tr>\n",
       "    <tr>\n",
       "      <th>long</th>\n",
       "      <td>-0.145930</td>\n",
       "      <td>0.043207</td>\n",
       "      <td>1.000000</td>\n",
       "      <td>-0.101381</td>\n",
       "      <td>0.210272</td>\n",
       "    </tr>\n",
       "    <tr>\n",
       "      <th>Votes</th>\n",
       "      <td>0.385249</td>\n",
       "      <td>-0.019687</td>\n",
       "      <td>-0.101381</td>\n",
       "      <td>1.000000</td>\n",
       "      <td>0.245662</td>\n",
       "    </tr>\n",
       "    <tr>\n",
       "      <th>avg_cost</th>\n",
       "      <td>0.248981</td>\n",
       "      <td>-0.064748</td>\n",
       "      <td>0.210272</td>\n",
       "      <td>0.245662</td>\n",
       "      <td>1.000000</td>\n",
       "    </tr>\n",
       "  </tbody>\n",
       "</table>\n",
       "</div>"
      ],
      "text/plain": [
       "            Rating       lat      long     Votes  avg_cost\n",
       "Rating    1.000000 -0.019806 -0.145930  0.385249  0.248981\n",
       "lat      -0.019806  1.000000  0.043207 -0.019687 -0.064748\n",
       "long     -0.145930  0.043207  1.000000 -0.101381  0.210272\n",
       "Votes     0.385249 -0.019687 -0.101381  1.000000  0.245662\n",
       "avg_cost  0.248981 -0.064748  0.210272  0.245662  1.000000"
      ]
     },
     "execution_count": 30,
     "metadata": {},
     "output_type": "execute_result"
    }
   ],
   "source": [
    "Cols=['Rating','lat','long','Votes','avg_cost']\n",
    "ZomatoData[Cols].corr()"
   ]
  },
  {
   "cell_type": "markdown",
   "id": "b963c8bb",
   "metadata": {},
   "source": [
    "**Final selected columns:** Rating,Votes,avg_cost"
   ]
  },
  {
   "cell_type": "markdown",
   "id": "0ebe39a0",
   "metadata": {},
   "source": [
    "# Relationship exploration: Categorical Vs Continuous -- Box Plots"
   ]
  },
  {
   "cell_type": "code",
   "execution_count": 31,
   "id": "b765807b",
   "metadata": {},
   "outputs": [],
   "source": [
    "CatCol=['booking','delivery','price_range']"
   ]
  },
  {
   "cell_type": "code",
   "execution_count": 32,
   "id": "2ebd63dc",
   "metadata": {},
   "outputs": [
    {
     "data": {
      "image/png": "[encoded data removed]",
      "text/plain": [
       "<Figure size 2160x720 with 3 Axes>"
      ]
     },
     "metadata": {
      "needs_background": "light"
     },
     "output_type": "display_data"
    }
   ],
   "source": [
    "fig,subplot=plt.subplots(nrows=1,ncols=len(CatCol),figsize=(30,10))\n",
    "\n",
    "for PredCol,PlotNum in zip(CatCol,range(len(CatCol))):\n",
    "    ZomatoData.boxplot(by=PredCol,column='Rating',ax=subplot[PlotNum])"
   ]
  },
  {
   "cell_type": "markdown",
   "id": "35e2794e",
   "metadata": {},
   "source": [
    "# Box-Plots interpretation\n",
    "<b>What should you look for in these box plots? </b>\n",
    "\n",
    "These plots gives an idea about the data distribution of continuous predictor in the Y-axis for each of the category in the X-Axis.\n",
    "\n",
    "If the distribution looks similar for each category(Boxes are in the same line), that means the the continuous variable has NO effect on the target variable. Hence, the variables are not correlated to each other.\n",
    "\n",
    "On the other hand if the distribution is different for each category(the boxes are not in same line!). It hints that these variables might be correlated with Price."
   ]
  },
  {
   "cell_type": "markdown",
   "id": "7e8ec98e",
   "metadata": {},
   "source": [
    "# Statistical Feature Selection (Categorical Vs Continuous) using ANOVA test\n",
    "Analysis of variance(ANOVA) is performed to check if there is any relationship between the given continuous and categorical variable\n",
    "* Assumption(H0): There is NO relation between the given variables (i.e. The average(mean) values of the numeric Target variable is same for all the groups in the categorical Predictor variable)\n",
    "* ANOVA Test result: Probability of H0 being true"
   ]
  },
  {
   "cell_type": "code",
   "execution_count": 33,
   "id": "ec4dee7c",
   "metadata": {},
   "outputs": [],
   "source": [
    "from scipy.stats import f_oneway"
   ]
  },
  {
   "cell_type": "code",
   "execution_count": 34,
   "id": "b64c4b95",
   "metadata": {},
   "outputs": [],
   "source": [
    "def Func_Anova(InpData,TargetVariable,CatPreds):\n",
    "     # Creating an empty list of final selected predictors\n",
    "    SelectedPreds=[]\n",
    "    \n",
    "    for pred in CatPreds:\n",
    "        CatColsList=InpData.groupby(pred)[TargetVariable].apply(list)\n",
    "        Anova=f_oneway(*CatColsList)#unpacks the list\n",
    "        \n",
    "    # If the ANOVA P-Value is <0.05, that means we reject H0\n",
    "        if(Anova[1]<0.05):\n",
    "            print(pred,'is correlated with',TargetVariable, ' | P-value:', Anova[1])\n",
    "            SelectedPreds.append(pred)\n",
    "        else:\n",
    "        # Accepting the H0 if the P value is more than 0.05\n",
    "            print(pred,'is NOT correlated with', TargetVariable, ' | P-value:', Anova[0])\n",
    "        \n",
    "    return(SelectedPreds)"
   ]
  },
  {
   "cell_type": "code",
   "execution_count": 35,
   "id": "0e8bd2c7",
   "metadata": {},
   "outputs": [
    {
     "name": "stdout",
     "output_type": "stream",
     "text": [
      "booking is correlated with Rating  | P-value: 3.9393041304297214e-82\n",
      "delivery is correlated with Rating  | P-value: 1.6952587420575958e-92\n",
      "price_range is correlated with Rating  | P-value: 0.0\n"
     ]
    },
    {
     "data": {
      "text/plain": [
       "['booking', 'delivery', 'price_range']"
      ]
     },
     "execution_count": 35,
     "metadata": {},
     "output_type": "execute_result"
    }
   ],
   "source": [
    "Func_Anova(InpData=ZomatoData,TargetVariable='Rating',CatPreds=CatCol)"
   ]
  },
  {
   "cell_type": "markdown",
   "id": "151d2c6d",
   "metadata": {},
   "source": [
    "# Selecting final predictors for Machine Learning\n",
    "Based on the above tests, selecting the final columns for machine learning"
   ]
  },
  {
   "cell_type": "code",
   "execution_count": 36,
   "id": "2f217452",
   "metadata": {},
   "outputs": [
    {
     "data": {
      "text/html": [
       "<div>\n",
       "<style scoped>\n",
       "    .dataframe tbody tr th:only-of-type {\n",
       "        vertical-align: middle;\n",
       "    }\n",
       "\n",
       "    .dataframe tbody tr th {\n",
       "        vertical-align: top;\n",
       "    }\n",
       "\n",
       "    .dataframe thead th {\n",
       "        text-align: right;\n",
       "    }\n",
       "</style>\n",
       "<table border=\"1\" class=\"dataframe\">\n",
       "  <thead>\n",
       "    <tr style=\"text-align: right;\">\n",
       "      <th></th>\n",
       "      <th>Votes</th>\n",
       "      <th>avg_cost</th>\n",
       "      <th>booking</th>\n",
       "      <th>delivery</th>\n",
       "      <th>price_range</th>\n",
       "    </tr>\n",
       "  </thead>\n",
       "  <tbody>\n",
       "    <tr>\n",
       "      <th>0</th>\n",
       "      <td>314</td>\n",
       "      <td>1100</td>\n",
       "      <td>Yes</td>\n",
       "      <td>No</td>\n",
       "      <td>3</td>\n",
       "    </tr>\n",
       "    <tr>\n",
       "      <th>1</th>\n",
       "      <td>591</td>\n",
       "      <td>1200</td>\n",
       "      <td>Yes</td>\n",
       "      <td>No</td>\n",
       "      <td>3</td>\n",
       "    </tr>\n",
       "    <tr>\n",
       "      <th>2</th>\n",
       "      <td>270</td>\n",
       "      <td>4000</td>\n",
       "      <td>Yes</td>\n",
       "      <td>No</td>\n",
       "      <td>4</td>\n",
       "    </tr>\n",
       "    <tr>\n",
       "      <th>3</th>\n",
       "      <td>365</td>\n",
       "      <td>1500</td>\n",
       "      <td>No</td>\n",
       "      <td>No</td>\n",
       "      <td>4</td>\n",
       "    </tr>\n",
       "    <tr>\n",
       "      <th>4</th>\n",
       "      <td>229</td>\n",
       "      <td>1500</td>\n",
       "      <td>Yes</td>\n",
       "      <td>No</td>\n",
       "      <td>4</td>\n",
       "    </tr>\n",
       "  </tbody>\n",
       "</table>\n",
       "</div>"
      ],
      "text/plain": [
       "   Votes  avg_cost booking delivery  price_range\n",
       "0    314      1100     Yes       No            3\n",
       "1    591      1200     Yes       No            3\n",
       "2    270      4000     Yes       No            4\n",
       "3    365      1500      No       No            4\n",
       "4    229      1500     Yes       No            4"
      ]
     },
     "execution_count": 36,
     "metadata": {},
     "output_type": "execute_result"
    }
   ],
   "source": [
    "SelectedCols=['Votes','avg_cost','booking','delivery','price_range']\n",
    "final_df=ZomatoData[SelectedCols]\n",
    "final_df.head()"
   ]
  },
  {
   "cell_type": "markdown",
   "id": "237e7dbc",
   "metadata": {},
   "source": [
    "## Data Pre-processing for Machine Learning\n",
    "\n",
    "1. Converting each Ordinal Categorical columns to numeric\n",
    "2. Converting Binary nominal Categorical columns to numeric using 1/0 mapping\n",
    "3. Converting all other nominal categorical columns to numeric using pd.get_dummies()\n",
    "4. Data Transformation (Optional): Standardization/Normalization/log/sqrt. \n",
    "\n",
    "In this data there is no Ordinal categorical variable which is in string format.\n"
   ]
  },
  {
   "cell_type": "code",
   "execution_count": 37,
   "id": "b241e20d",
   "metadata": {},
   "outputs": [
    {
     "data": {
      "text/html": [
       "<div>\n",
       "<style scoped>\n",
       "    .dataframe tbody tr th:only-of-type {\n",
       "        vertical-align: middle;\n",
       "    }\n",
       "\n",
       "    .dataframe tbody tr th {\n",
       "        vertical-align: top;\n",
       "    }\n",
       "\n",
       "    .dataframe thead th {\n",
       "        text-align: right;\n",
       "    }\n",
       "</style>\n",
       "<table border=\"1\" class=\"dataframe\">\n",
       "  <thead>\n",
       "    <tr style=\"text-align: right;\">\n",
       "      <th></th>\n",
       "      <th>Votes</th>\n",
       "      <th>avg_cost</th>\n",
       "      <th>booking</th>\n",
       "      <th>delivery</th>\n",
       "      <th>price_range</th>\n",
       "    </tr>\n",
       "  </thead>\n",
       "  <tbody>\n",
       "    <tr>\n",
       "      <th>0</th>\n",
       "      <td>314</td>\n",
       "      <td>1100</td>\n",
       "      <td>1</td>\n",
       "      <td>0</td>\n",
       "      <td>3</td>\n",
       "    </tr>\n",
       "    <tr>\n",
       "      <th>1</th>\n",
       "      <td>591</td>\n",
       "      <td>1200</td>\n",
       "      <td>1</td>\n",
       "      <td>0</td>\n",
       "      <td>3</td>\n",
       "    </tr>\n",
       "    <tr>\n",
       "      <th>2</th>\n",
       "      <td>270</td>\n",
       "      <td>4000</td>\n",
       "      <td>1</td>\n",
       "      <td>0</td>\n",
       "      <td>4</td>\n",
       "    </tr>\n",
       "    <tr>\n",
       "      <th>3</th>\n",
       "      <td>365</td>\n",
       "      <td>1500</td>\n",
       "      <td>0</td>\n",
       "      <td>0</td>\n",
       "      <td>4</td>\n",
       "    </tr>\n",
       "    <tr>\n",
       "      <th>4</th>\n",
       "      <td>229</td>\n",
       "      <td>1500</td>\n",
       "      <td>1</td>\n",
       "      <td>0</td>\n",
       "      <td>4</td>\n",
       "    </tr>\n",
       "  </tbody>\n",
       "</table>\n",
       "</div>"
      ],
      "text/plain": [
       "   Votes  avg_cost  booking  delivery  price_range\n",
       "0    314      1100        1         0            3\n",
       "1    591      1200        1         0            3\n",
       "2    270      4000        1         0            4\n",
       "3    365      1500        0         0            4\n",
       "4    229      1500        1         0            4"
      ]
     },
     "execution_count": 37,
     "metadata": {},
     "output_type": "execute_result"
    }
   ],
   "source": [
    "Cols=['booking','delivery']\n",
    "final_df[Cols]=final_df[Cols].replace({'Yes':1,'No':0})\n",
    "final_df.head()"
   ]
  },
  {
   "cell_type": "code",
   "execution_count": 38,
   "id": "47fb192e",
   "metadata": {},
   "outputs": [],
   "source": [
    "# Adding Target Variable to the data\n",
    "final_df['Rating']=ZomatoData['Rating']"
   ]
  },
  {
   "cell_type": "markdown",
   "id": "3937e6a5",
   "metadata": {},
   "source": [
    "# Machine Learning: Splitting the data into Training and Testing sample"
   ]
  },
  {
   "cell_type": "code",
   "execution_count": 39,
   "id": "711e13f7",
   "metadata": {},
   "outputs": [],
   "source": [
    "x=final_df[SelectedCols]\n",
    "y=final_df['Rating']"
   ]
  },
  {
   "cell_type": "markdown",
   "id": "2b96f5c7",
   "metadata": {},
   "source": [
    "# Standardization/Normalization"
   ]
  },
  {
   "cell_type": "code",
   "execution_count": 40,
   "id": "cc494456",
   "metadata": {},
   "outputs": [],
   "source": [
    "from sklearn.preprocessing import RobustScaler\n",
    "PredScaler=RobustScaler().fit(x)\n",
    "x=PredScaler.transform(x)"
   ]
  },
  {
   "cell_type": "code",
   "execution_count": 41,
   "id": "4fc6d8ab",
   "metadata": {},
   "outputs": [],
   "source": [
    "#splitting the data\n",
    "from sklearn.model_selection import train_test_split\n",
    "x_train,x_test,y_train,y_test=train_test_split(x,y,test_size=0.3)"
   ]
  },
  {
   "cell_type": "markdown",
   "id": "aad71118",
   "metadata": {},
   "source": [
    "# Multiple Linear Regression"
   ]
  },
  {
   "cell_type": "code",
   "execution_count": 42,
   "id": "5bc4ec5a",
   "metadata": {},
   "outputs": [
    {
     "data": {
      "text/plain": [
       "LinearRegression()"
      ]
     },
     "execution_count": 42,
     "metadata": {},
     "output_type": "execute_result"
    }
   ],
   "source": [
    "from sklearn.linear_model import LinearRegression\n",
    "lm=LinearRegression()\n",
    "lm.fit(x_train,y_train)"
   ]
  },
  {
   "cell_type": "markdown",
   "id": "93befbe2",
   "metadata": {},
   "source": [
    "# Model Evaluation"
   ]
  },
  {
   "cell_type": "code",
   "execution_count": 43,
   "id": "9546685a",
   "metadata": {},
   "outputs": [
    {
     "name": "stdout",
     "output_type": "stream",
     "text": [
      "R2 score: 0.29974320587145153\n"
     ]
    }
   ],
   "source": [
    "# Measuring Goodness of fit in Training data\n",
    "from sklearn import metrics\n",
    "print('R2 score:',metrics.r2_score(y_train,lm.predict(x_train)))"
   ]
  },
  {
   "cell_type": "code",
   "execution_count": 44,
   "id": "c6550f68",
   "metadata": {},
   "outputs": [
    {
     "data": {
      "text/plain": [
       "<matplotlib.collections.PathCollection at 0x1ad8d2a9430>"
      ]
     },
     "execution_count": 44,
     "metadata": {},
     "output_type": "execute_result"
    },
    {
     "data": {
      "image/png": "[encoded data removed]",
      "text/plain": [
       "<Figure size 432x288 with 1 Axes>"
      ]
     },
     "metadata": {
      "needs_background": "light"
     },
     "output_type": "display_data"
    }
   ],
   "source": [
    "Prediction=lm.predict(x_test)\n",
    "plt.scatter(Prediction,y_test)"
   ]
  },
  {
   "cell_type": "code",
   "execution_count": 45,
   "id": "21bea916",
   "metadata": {},
   "outputs": [
    {
     "name": "stdout",
     "output_type": "stream",
     "text": [
      "Mean Accuracy on test data: 52.836806012737824\n",
      "Median Accuracy on test data: 78.61349912058846\n"
     ]
    }
   ],
   "source": [
    "# Calculating the error for each row\n",
    "mape=np.mean(abs((Prediction-y_test)/y_test)*100)\n",
    "med=np.median(abs((Prediction-y_test)/y_test)*100)\n",
    "\n",
    "print('Mean Accuracy on test data:',100-mape)\n",
    "print('Median Accuracy on test data:',100-med)"
   ]
  },
  {
   "cell_type": "code",
   "execution_count": 46,
   "id": "62dc6e95",
   "metadata": {},
   "outputs": [
    {
     "name": "stdout",
     "output_type": "stream",
     "text": [
      "Average Accuracy of model: 53.77\n"
     ]
    }
   ],
   "source": [
    "# Defining a custom function to calculate average accuracy\n",
    "def Acc_Score(orig,pred):\n",
    "    mape=np.mean(abs((orig-pred)/orig)*100)\n",
    "    return(100-mape)\n",
    "\n",
    "# Custom Scoring MAPE calculation\n",
    "from sklearn.metrics import make_scorer\n",
    "cust_score=make_scorer(Acc_Score)\n",
    "\n",
    "# Importing cross validation function from sklearn\n",
    "from sklearn.model_selection import cross_val_score\n",
    "# Passing full data X and y because the K-fold will split the data and automatically choose train/test\n",
    "print('Average Accuracy of model:',round(cross_val_score(lm,x,y,cv=5,scoring=cust_score).mean(),2))"
   ]
  },
  {
   "cell_type": "markdown",
   "id": "ca6171dd",
   "metadata": {},
   "source": [
    "# Decision Trees"
   ]
  },
  {
   "cell_type": "code",
   "execution_count": 76,
   "id": "0d1140a6",
   "metadata": {},
   "outputs": [
    {
     "data": {
      "text/plain": [
       "DecisionTreeRegressor(max_depth=5)"
      ]
     },
     "execution_count": 76,
     "metadata": {},
     "output_type": "execute_result"
    }
   ],
   "source": [
    "from sklearn.tree import DecisionTreeRegressor\n",
    "rm=DecisionTreeRegressor(max_depth=5,criterion='mse')\n",
    "rm.fit(x_train,y_train)"
   ]
  },
  {
   "cell_type": "code",
   "execution_count": 77,
   "id": "16aba830",
   "metadata": {},
   "outputs": [
    {
     "name": "stdout",
     "output_type": "stream",
     "text": [
      "R2 Score: 0.3087094806656012\n"
     ]
    }
   ],
   "source": [
    "# Measuring Goodness of fit in Training data\n",
    "print('R2 Score:',metrics.r2_score(y_test,lm.predict(x_test)))"
   ]
  },
  {
   "cell_type": "code",
   "execution_count": 78,
   "id": "15ac6b19",
   "metadata": {},
   "outputs": [
    {
     "data": {
      "text/plain": [
       "<AxesSubplot:>"
      ]
     },
     "execution_count": 78,
     "metadata": {},
     "output_type": "execute_result"
    },
    {
     "data": {
      "image/png": "[encoded data removed]",
      "text/plain": [
       "<Figure size 432x288 with 1 Axes>"
      ]
     },
     "metadata": {
      "needs_background": "light"
     },
     "output_type": "display_data"
    }
   ],
   "source": [
    "# Plotting the feature importance for Top 5 most important columns\n",
    "pd.Series(rm.feature_importances_,index=SelectedCols).nlargest(5).plot(kind='barh')"
   ]
  },
  {
   "cell_type": "code",
   "execution_count": 79,
   "id": "5ba9c06e",
   "metadata": {},
   "outputs": [
    {
     "name": "stdout",
     "output_type": "stream",
     "text": [
      "Mean Accuracy on test data: 92.99660892453055\n",
      "Median Accuracy on test data: 96.05067064083465\n",
      "Average Model Accuracy: 92.84\n"
     ]
    }
   ],
   "source": [
    "prediction=rm.predict(x_test)\n",
    "\n",
    "mape=np.mean(abs((y_test-prediction)/y_test)*100)\n",
    "med=np.median(abs((y_test-prediction)/y_test)*100)\n",
    "\n",
    "print('Mean Accuracy on test data:',100-mape)\n",
    "print('Median Accuracy on test data:',100-med)\n",
    "print('Average Model Accuracy:',round(cross_val_score(rm,x,y,cv=5,scoring=cust_score).mean(),2))"
   ]
  },
  {
   "cell_type": "markdown",
   "id": "0281c565",
   "metadata": {},
   "source": [
    "## Plotting a Decision Tree"
   ]
  },
  {
   "cell_type": "code",
   "execution_count": 80,
   "id": "9eef263a",
   "metadata": {},
   "outputs": [],
   "source": [
    "import os\n",
    "os.environ['PATH']+=os.pathsep+'C:\\\\Users\\\\eshvi\\\\anaconda3\\\\Library\\\\bin\\\\graphviz'"
   ]
  },
  {
   "cell_type": "code",
   "execution_count": 81,
   "id": "c4ad7296",
   "metadata": {},
   "outputs": [],
   "source": [
    "from IPython.display import Image\n",
    "from sklearn import tree\n",
    "import pydotplus"
   ]
  },
  {
   "cell_type": "code",
   "execution_count": 82,
   "id": "b26d3e1a",
   "metadata": {
    "scrolled": false
   },
   "outputs": [
    {
     "data": {
      "image/png": "[encoded data removed]",
      "text/plain": [
       "<IPython.core.display.Image object>"
      ]
     },
     "execution_count": 82,
     "metadata": {
      "image/png": {
       "height": 7000,
       "width": 7000
      }
     },
     "output_type": "execute_result"
    }
   ],
   "source": [
    "# Create DOT data\n",
    "dot_data=tree.export_graphviz(rm,out_file=None,feature_names=SelectedCols,class_names=y)\n",
    "\n",
    "# Draw graph\n",
    "graph=pydotplus.graph_from_dot_data(dot_data)\n",
    "\n",
    "#Show graph\n",
    "Image(graph.create_png(),width=7000,height=7000)"
   ]
  },
  {
   "cell_type": "code",
   "execution_count": null,
   "id": "74ebcc42",
   "metadata": {},
   "outputs": [],
   "source": []
  },
  {
   "cell_type": "code",
   "execution_count": null,
   "id": "f9910ddd",
   "metadata": {},
   "outputs": [],
   "source": []
  }
 ],
 "metadata": {
  "kernelspec": {
   "display_name": "Python 3 (ipykernel)",
   "language": "python",
   "name": "python3"
  },
  "language_info": {
   "codemirror_mode": {
    "name": "ipython",
    "version": 3
   },
   "file_extension": ".py",
   "mimetype": "text/x-python",
   "name": "python",
   "nbconvert_exporter": "python",
   "pygments_lexer": "ipython3",
   "version": "3.9.7"
  }
 },
 "nbformat": 4,
 "nbformat_minor": 5
}
